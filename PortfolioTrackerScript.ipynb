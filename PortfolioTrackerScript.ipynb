{
  "nbformat": 4,
  "nbformat_minor": 0,
  "metadata": {
    "colab": {
      "provenance": [],
      "authorship_tag": "ABX9TyNdRMTqXrhAQpWL0y7D+XO/",
      "include_colab_link": true
    },
    "kernelspec": {
      "name": "python3",
      "display_name": "Python 3"
    },
    "language_info": {
      "name": "python"
    }
  },
  "cells": [
    {
      "cell_type": "markdown",
      "metadata": {
        "id": "view-in-github",
        "colab_type": "text"
      },
      "source": [
        "<a href=\"https://colab.research.google.com/github/JRCon1/Google-Sheets-Automated-Portfolio-Tracker-/blob/main/PortfolioTrackerScript.ipynb\" target=\"_parent\"><img src=\"https://colab.research.google.com/assets/colab-badge.svg\" alt=\"Open In Colab\"/></a>"
      ]
    },
    {
      "cell_type": "code",
      "execution_count": 14,
      "metadata": {
        "id": "a_tpkVZ36PJZ"
      },
      "outputs": [],
      "source": [
        "#Install all required packages. Use %%capture to hide download output and warnings\n",
        "\n",
        "%%capture\n",
        "!pip install empyrial\n",
        "!pip install quantstats\n",
        "import numpy as np\n",
        "import pandas as pd\n",
        "import yfinance as yf\n",
        "import datetime as dt\n",
        "from google.colab import auth\n",
        "import gspread\n",
        "from google.auth import default\n",
        "import empyrial as ep\n",
        "from empyrial import *\n",
        "import quantstats as qs\n",
        "qs.extend_pandas()"
      ]
    },
    {
      "cell_type": "code",
      "source": [
        "#Google Sheet Linkage Portion\n",
        "\n",
        "# Authenticate to Google Sheets\n",
        "auth.authenticate_user()\n",
        "creds, _ = default()\n",
        "gc = gspread.authorize(creds)\n",
        "\n",
        "#Link the Spreadsheet URL, the Spreadsheet, and Specify which sheet you're refering too (starting from 0)\n",
        "spreadsheet_url = \"https://docs.google.com/spreadsheets/d/1loKt4k5q7tXFvrlgLloPcnvnuCCromIjADUvxqxyksU/edit?gid=0#gid=0\"\n",
        "spreadsheet = gc.open_by_url(spreadsheet_url)\n",
        "#Select the second sheet\n",
        "sheet = spreadsheet.get_worksheet(1)"
      ],
      "metadata": {
        "id": "a1iNys2Pjh9f"
      },
      "execution_count": 15,
      "outputs": []
    },
    {
      "cell_type": "code",
      "source": [
        "%%capture\n",
        "#Store the tickers and the weights from the sheet into lists in preparation for the backtest\n",
        "tickers = [ticker[0] for ticker in sheet.get('A2:A15')]\n",
        "weights = [float(weight[0].strip('%')) / 100 for weight in sheet.get('L2:L15')]\n",
        "\n",
        "#Set a start date to run the backtest from, and perform it.\n",
        "start = dt.date(2019, 8, 14)\n",
        "p = Engine(start_date= start, portfolio = tickers, weights = weights, benchmark = ['SPY'])\n",
        "empyrial(p)\n",
        "\n",
        "display_sheet = spreadsheet.get_worksheet(0)\n",
        "data = empyrial.df\n",
        "quant_stats = pd.DataFrame(data)\n",
        "QSData = [quant_stats.columns.tolist()] + quant_stats.values.tolist()\n",
        "display_sheet.update('C7', QSData)"
      ],
      "metadata": {
        "id": "rXxj5QjEmAOs",
        "collapsed": true
      },
      "execution_count": 16,
      "outputs": []
    },
    {
      "cell_type": "code",
      "source": [
        "# Download Data and Calculate Returns\n",
        "df = yf.download(tickers, start=start)['Adj Close']\n",
        "df = df.reindex(columns=tickers)\n",
        "returns = df.pct_change().dropna()\n",
        "\n",
        "# Define Risk Free Rate\n",
        "rf = 0.03\n",
        "\n",
        "# Function to calculate, round, convert to list, and update sheet\n",
        "def calculate_and_update(stat_function, column, *args, decimals=2, **kwargs):\n",
        "    stat_values = stat_function(returns, *args, **kwargs)\n",
        "    rounded_values = np.round(stat_values, decimals).tolist()\n",
        "    for i, value in enumerate(rounded_values):\n",
        "        cell = f'{column}{2 + i}'\n",
        "        sheet.update_acell(cell, value)\n",
        "\n",
        "# Update CAGR\n",
        "calculate_and_update(qs.stats.cagr, 'Q')\n",
        "\n",
        "# Update Volatility\n",
        "calculate_and_update(qs.stats.volatility, 'R')\n",
        "\n",
        "# Update Sharpe Ratio\n",
        "calculate_and_update(qs.stats.sharpe, 'S', rf=rf)\n",
        "\n",
        "# Update Sortino Ratio\n",
        "calculate_and_update(sortino_ratio, 'T', period='daily')\n",
        "\n",
        "# Update Calmar Ratio\n",
        "calculate_and_update(qs.stats.calmar, 'U', decimals=2)\n",
        "\n",
        "# Update VaR\n",
        "calculate_and_update(qs.stats.var, 'V', sigma=1, confidence=0.95, decimals=4)\n",
        "\n",
        "# Update CVaR\n",
        "calculate_and_update(qs.stats.cvar, 'W', sigma=1, confidence=0.95, decimals=4)\n",
        "\n",
        "# Update Max Drawdown\n",
        "calculate_and_update(max_drawdown, 'X', out=None, decimals=2)\n",
        "\n",
        "#Update 30 Day Rolling Implied Volatility\n",
        "iv = qs.stats.implied_volatility(returns).rolling(30).mean().iloc[-1:]\n",
        "iv_percentages = np.round(iv.values[0] * 100, 2).tolist()\n",
        "sheet.update_acell('Y2', f\"{iv_percentage}%\")"
      ],
      "metadata": {
        "colab": {
          "base_uri": "https://localhost:8080/"
        },
        "id": "feC18U59zkYn",
        "outputId": "b6b0a72c-9236-47c8-86a1-27f7020b6430"
      },
      "execution_count": 18,
      "outputs": [
        {
          "output_type": "stream",
          "name": "stderr",
          "text": [
            "[*********************100%%**********************]  14 of 14 completed\n"
          ]
        }
      ]
    },
    {
      "cell_type": "code",
      "source": [
        "#Add or Update Yearly Dividend Income by Stock\n",
        "dividends = pd.DataFrame()\n",
        "for ticker in tickers:\n",
        "    dividends[ticker] = yf.Ticker(ticker).dividends.iloc[-4:].reset_index(drop=True)\n",
        "    dividends[pd.isna(dividends)] = 0\n",
        "dividends = dividends.sum().to_list()\n",
        "\n",
        "for i, value in enumerate(dividends):\n",
        "    cell = f'M{2 + i}'\n",
        "    sheet.update_acell(cell, value)"
      ],
      "metadata": {
        "id": "JkR3HEXp4diq"
      },
      "execution_count": 19,
      "outputs": []
    },
    {
      "cell_type": "code",
      "source": [
        "#Create and then store Dividend Calendar\n",
        "shares = [float(share[0]) for share in sheet.get('C2:C15')]\n",
        "\n",
        "months = pd.date_range(start='2023-08-01', end='2024-07-31', freq='M').strftime('%Y-%m').tolist()\n",
        "dividends = pd.DataFrame(columns=months)\n",
        "\n",
        "for i, ticker in enumerate(tickers):\n",
        "    ticker_data = yf.Ticker(ticker).dividends\n",
        "    monthly_dividends = ticker_data.groupby(ticker_data.index.to_period('M')).sum()\n",
        "    monthly_dividends.index = monthly_dividends.index.strftime('%Y-%m')\n",
        "    dividends.loc[ticker] = monthly_dividends.reindex(months, fill_value=0).values * shares[i]\n",
        "\n",
        "month_names = pd.date_range(start='2023-08-01', end='2024-07-31', freq='M').strftime('%B').tolist()\n",
        "dividends.columns = month_names\n",
        "\n",
        "output = [['Dividend Calendar'] + month_names]\n",
        "output += [[ticker] + dividends.loc[ticker].tolist() for ticker in tickers]\n",
        "\n",
        "sheet3 = spreadsheet.get_worksheet(2)\n",
        "sheet3.update('B2', output)"
      ],
      "metadata": {
        "colab": {
          "base_uri": "https://localhost:8080/"
        },
        "id": "WW5q93qROzAs",
        "outputId": "4f1efcc3-04ea-43d8-9f47-c669fa5d2c6d"
      },
      "execution_count": 20,
      "outputs": [
        {
          "output_type": "execute_result",
          "data": {
            "text/plain": [
              "{'spreadsheetId': '1loKt4k5q7tXFvrlgLloPcnvnuCCromIjADUvxqxyksU',\n",
              " 'updatedRange': \"'Dividend Calender'!B2:N16\",\n",
              " 'updatedRows': 15,\n",
              " 'updatedColumns': 13,\n",
              " 'updatedCells': 195}"
            ]
          },
          "metadata": {},
          "execution_count": 20
        }
      ]
    },
    {
      "cell_type": "code",
      "source": [
        "#Add in Sectors\n",
        "sectors = []\n",
        "for ticker in tickers:\n",
        "    sector = yf.Ticker(ticker).info.get('sector', 'N/A')\n",
        "    if sector == 'N/A':\n",
        "        sector = 'ETF'\n",
        "    sectors.append(sector)\n",
        "\n",
        "for i, sector in enumerate(sectors):\n",
        "    cell = f'B{2 + i}'\n",
        "    sheet.update_acell(cell, sector)"
      ],
      "metadata": {
        "id": "brFqthA3ytOx"
      },
      "execution_count": 21,
      "outputs": []
    },
    {
      "cell_type": "code",
      "source": [
        "#Prepare Plotting\n",
        "portfolio_returns = (returns * weights).sum(axis=1)\n",
        "\n",
        "\n",
        "# Calculate the cumulative return for the portfolio\n",
        "portfolio_cum_returns = (1 + portfolio_returns).cumprod()\n",
        "benchmark_cum_returns = (1 + returns['VOO']).cumprod()\n",
        "\n",
        "cum_returns_df = pd.DataFrame({\n",
        "    'Date': portfolio_cum_returns.index.strftime('%Y-%m-%d'),\n",
        "    'Portfolio': portfolio_cum_returns.values,\n",
        "    'Benchmark': benchmark_cum_returns.values\n",
        "})\n",
        "\n",
        "# Convert the DataFrame to a list of lists for updating Google Sheets\n",
        "output_data = [cum_returns_df.columns.tolist()] + cum_returns_df.values.tolist()\n",
        "\n",
        "# Update the Google Sheet starting from B150\n",
        "sheet3.update('B150', output_data)\n",
        "\n",
        "#Individual Returns Portion\n",
        "cumulative_returns  = (1 + returns).cumprod()\n",
        "net_percent_returns = (cumulative_returns - 1)\n",
        "net_percent_returns.index = net_percent_returns.index.strftime('%Y-%m-%d')\n",
        "output_dataInd = [net_percent_returns.columns.tolist()] + net_percent_returns.values.tolist()\n",
        "sheet3.update('K150', output_dataInd)"
      ],
      "metadata": {
        "colab": {
          "base_uri": "https://localhost:8080/"
        },
        "id": "VSdoovW1Zbz1",
        "outputId": "5138620d-afb2-4202-dd4a-a6dca0a7ed1a"
      },
      "execution_count": 22,
      "outputs": [
        {
          "output_type": "execute_result",
          "data": {
            "text/plain": [
              "{'spreadsheetId': '1loKt4k5q7tXFvrlgLloPcnvnuCCromIjADUvxqxyksU',\n",
              " 'updatedRange': \"'Dividend Calender'!K150:X1411\",\n",
              " 'updatedRows': 1262,\n",
              " 'updatedColumns': 14,\n",
              " 'updatedCells': 17668}"
            ]
          },
          "metadata": {},
          "execution_count": 22
        }
      ]
    }
  ]
}